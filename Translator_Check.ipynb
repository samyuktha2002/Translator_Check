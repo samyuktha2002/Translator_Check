{
  "nbformat": 4,
  "nbformat_minor": 0,
  "metadata": {
    "colab": {
      "provenance": [],
      "include_colab_link": true
    },
    "kernelspec": {
      "name": "python3",
      "display_name": "Python 3"
    },
    "language_info": {
      "name": "python"
    }
  },
  "cells": [
    {
      "cell_type": "markdown",
      "metadata": {
        "id": "view-in-github",
        "colab_type": "text"
      },
      "source": [
        "<a href=\"https://colab.research.google.com/github/samyuktha2002/Translator_Check/blob/main/Translator_Check.ipynb\" target=\"_parent\"><img src=\"https://colab.research.google.com/assets/colab-badge.svg\" alt=\"Open In Colab\"/></a>"
      ]
    },
    {
      "cell_type": "code",
      "metadata": {
        "colab": {
          "base_uri": "https://localhost:8080/"
        },
        "id": "4G9N0UGmMRVc",
        "outputId": "ac0460f5-30e9-4e11-8374-940263d8cc8e"
      },
      "source": [
        "!pip uninstall opencv-python-headless"
      ],
      "execution_count": null,
      "outputs": [
        {
          "output_type": "stream",
          "name": "stdout",
          "text": [
            "Found existing installation: opencv-python-headless 4.5.5.62\n",
            "Uninstalling opencv-python-headless-4.5.5.62:\n",
            "  Would remove:\n",
            "    /usr/local/lib/python3.7/dist-packages/cv2/*\n",
            "    /usr/local/lib/python3.7/dist-packages/opencv_python_headless-4.5.5.62.dist-info/*\n",
            "    /usr/local/lib/python3.7/dist-packages/opencv_python_headless.libs/libavcodec-64ac49e1.so.58.91.100\n",
            "    /usr/local/lib/python3.7/dist-packages/opencv_python_headless.libs/libavformat-4b79e479.so.58.45.100\n",
            "    /usr/local/lib/python3.7/dist-packages/opencv_python_headless.libs/libavutil-805734e8.so.56.51.100\n",
            "    /usr/local/lib/python3.7/dist-packages/opencv_python_headless.libs/libbz2-a273e504.so.1.0.6\n",
            "    /usr/local/lib/python3.7/dist-packages/opencv_python_headless.libs/libcrypto-018b8c17.so.1.1\n",
            "    /usr/local/lib/python3.7/dist-packages/opencv_python_headless.libs/libgfortran-91cc3cb1.so.3.0.0\n",
            "    /usr/local/lib/python3.7/dist-packages/opencv_python_headless.libs/libopenblas-r0-f650aae0.3.3.so\n",
            "    /usr/local/lib/python3.7/dist-packages/opencv_python_headless.libs/libpng15-ce838cd1.so.15.13.0\n",
            "    /usr/local/lib/python3.7/dist-packages/opencv_python_headless.libs/libquadmath-96973f99.so.0.0.0\n",
            "    /usr/local/lib/python3.7/dist-packages/opencv_python_headless.libs/libssl-6082116c.so.1.1\n",
            "    /usr/local/lib/python3.7/dist-packages/opencv_python_headless.libs/libswresample-83ce3247.so.3.7.100\n",
            "    /usr/local/lib/python3.7/dist-packages/opencv_python_headless.libs/libswscale-7e960168.so.5.7.100\n",
            "    /usr/local/lib/python3.7/dist-packages/opencv_python_headless.libs/libvpx-392cd848.so.6.4.0\n",
            "  Would not remove (might be manually added):\n",
            "    /usr/local/lib/python3.7/dist-packages/cv2/.libs/libQtCore-bbdab771.so.4.8.7\n",
            "    /usr/local/lib/python3.7/dist-packages/cv2/.libs/libQtGui-903938cd.so.4.8.7\n",
            "    /usr/local/lib/python3.7/dist-packages/cv2/.libs/libQtTest-1183da5d.so.4.8.7\n",
            "    /usr/local/lib/python3.7/dist-packages/cv2/.libs/libavcodec-3cdd3bd4.so.58.62.100\n",
            "    /usr/local/lib/python3.7/dist-packages/cv2/.libs/libavformat-69a63b50.so.58.35.100\n",
            "    /usr/local/lib/python3.7/dist-packages/cv2/.libs/libavutil-8e8979a8.so.56.36.100\n",
            "    /usr/local/lib/python3.7/dist-packages/cv2/.libs/libbz2-7225278b.so.1.0.3\n",
            "    /usr/local/lib/python3.7/dist-packages/cv2/.libs/libcrypto-a25ff511.so.1.1\n",
            "    /usr/local/lib/python3.7/dist-packages/cv2/.libs/libssl-fdf0b66c.so.1.1\n",
            "    /usr/local/lib/python3.7/dist-packages/cv2/.libs/libswresample-c6b3bbb9.so.3.6.100\n",
            "    /usr/local/lib/python3.7/dist-packages/cv2/.libs/libswscale-2d19f7d1.so.5.6.100\n",
            "    /usr/local/lib/python3.7/dist-packages/cv2/.libs/libvpx-c887ea55.so.6.1.0\n",
            "    /usr/local/lib/python3.7/dist-packages/cv2/.libs/libz-a147dcb0.so.1.2.3\n",
            "    /usr/local/lib/python3.7/dist-packages/cv2/cv2.cpython-37m-x86_64-linux-gnu.so\n",
            "Proceed (y/n)? y\n",
            "  Successfully uninstalled opencv-python-headless-4.5.5.62\n"
          ]
        }
      ]
    },
    {
      "cell_type": "code",
      "source": [
        "!pip install opencv-python-headless==4.1.2.30"
      ],
      "metadata": {
        "colab": {
          "base_uri": "https://localhost:8080/"
        },
        "id": "XtEKk4HTzkQ6",
        "outputId": "691d1f16-04e0-4d2b-f9e5-f78574509e3e"
      },
      "execution_count": null,
      "outputs": [
        {
          "output_type": "stream",
          "name": "stdout",
          "text": [
            "Collecting opencv-python-headless==4.1.2.30\n",
            "  Downloading opencv_python_headless-4.1.2.30-cp37-cp37m-manylinux1_x86_64.whl (21.8 MB)\n",
            "\u001b[K     |████████████████████████████████| 21.8 MB 40.0 MB/s \n",
            "\u001b[?25hRequirement already satisfied: numpy>=1.14.5 in /usr/local/lib/python3.7/dist-packages (from opencv-python-headless==4.1.2.30) (1.21.5)\n",
            "Installing collected packages: opencv-python-headless\n",
            "Successfully installed opencv-python-headless-4.1.2.30\n"
          ]
        }
      ]
    },
    {
      "cell_type": "code",
      "source": [
        "!pip install easyocr"
      ],
      "metadata": {
        "colab": {
          "base_uri": "https://localhost:8080/"
        },
        "id": "60QffEjkzcd5",
        "outputId": "d2a115c0-40de-4bc7-8381-d463e39f2e12"
      },
      "execution_count": null,
      "outputs": [
        {
          "output_type": "stream",
          "name": "stdout",
          "text": [
            "Requirement already satisfied: easyocr in /usr/local/lib/python3.7/dist-packages (1.4.1)\n",
            "Requirement already satisfied: torchvision>=0.5 in /usr/local/lib/python3.7/dist-packages (from easyocr) (0.11.1+cu111)\n",
            "Requirement already satisfied: scikit-image in /usr/local/lib/python3.7/dist-packages (from easyocr) (0.18.3)\n",
            "Requirement already satisfied: python-bidi in /usr/local/lib/python3.7/dist-packages (from easyocr) (0.4.2)\n",
            "Requirement already satisfied: numpy in /usr/local/lib/python3.7/dist-packages (from easyocr) (1.21.5)\n",
            "Requirement already satisfied: Pillow<8.3.0 in /usr/local/lib/python3.7/dist-packages (from easyocr) (7.1.2)\n",
            "Requirement already satisfied: scipy in /usr/local/lib/python3.7/dist-packages (from easyocr) (1.4.1)\n",
            "Requirement already satisfied: opencv-python-headless in /usr/local/lib/python3.7/dist-packages (from easyocr) (4.1.2.30)\n",
            "Requirement already satisfied: PyYAML in /usr/local/lib/python3.7/dist-packages (from easyocr) (3.13)\n",
            "Requirement already satisfied: torch in /usr/local/lib/python3.7/dist-packages (from easyocr) (1.10.0+cu111)\n",
            "Requirement already satisfied: typing-extensions in /usr/local/lib/python3.7/dist-packages (from torch->easyocr) (3.10.0.2)\n",
            "Requirement already satisfied: six in /usr/local/lib/python3.7/dist-packages (from python-bidi->easyocr) (1.15.0)\n",
            "Requirement already satisfied: matplotlib!=3.0.0,>=2.0.0 in /usr/local/lib/python3.7/dist-packages (from scikit-image->easyocr) (3.2.2)\n",
            "Requirement already satisfied: networkx>=2.0 in /usr/local/lib/python3.7/dist-packages (from scikit-image->easyocr) (2.6.3)\n",
            "Requirement already satisfied: PyWavelets>=1.1.1 in /usr/local/lib/python3.7/dist-packages (from scikit-image->easyocr) (1.2.0)\n",
            "Requirement already satisfied: tifffile>=2019.7.26 in /usr/local/lib/python3.7/dist-packages (from scikit-image->easyocr) (2021.11.2)\n",
            "Requirement already satisfied: imageio>=2.3.0 in /usr/local/lib/python3.7/dist-packages (from scikit-image->easyocr) (2.4.1)\n",
            "Requirement already satisfied: cycler>=0.10 in /usr/local/lib/python3.7/dist-packages (from matplotlib!=3.0.0,>=2.0.0->scikit-image->easyocr) (0.11.0)\n",
            "Requirement already satisfied: python-dateutil>=2.1 in /usr/local/lib/python3.7/dist-packages (from matplotlib!=3.0.0,>=2.0.0->scikit-image->easyocr) (2.8.2)\n",
            "Requirement already satisfied: pyparsing!=2.0.4,!=2.1.2,!=2.1.6,>=2.0.1 in /usr/local/lib/python3.7/dist-packages (from matplotlib!=3.0.0,>=2.0.0->scikit-image->easyocr) (3.0.7)\n",
            "Requirement already satisfied: kiwisolver>=1.0.1 in /usr/local/lib/python3.7/dist-packages (from matplotlib!=3.0.0,>=2.0.0->scikit-image->easyocr) (1.3.2)\n"
          ]
        }
      ]
    },
    {
      "cell_type": "code",
      "metadata": {
        "colab": {
          "base_uri": "https://localhost:8080/"
        },
        "id": "0Wn9D7-FMULd",
        "outputId": "34aad7f1-4dcb-40da-ee20-9651d376e1a7"
      },
      "source": [
        "!pip install googletrans==4.0.0-rc1"
      ],
      "execution_count": null,
      "outputs": [
        {
          "output_type": "stream",
          "name": "stdout",
          "text": [
            "Requirement already satisfied: googletrans==4.0.0-rc1 in /usr/local/lib/python3.7/dist-packages (4.0.0rc1)\n",
            "Requirement already satisfied: httpx==0.13.3 in /usr/local/lib/python3.7/dist-packages (from googletrans==4.0.0-rc1) (0.13.3)\n",
            "Requirement already satisfied: hstspreload in /usr/local/lib/python3.7/dist-packages (from httpx==0.13.3->googletrans==4.0.0-rc1) (2021.12.1)\n",
            "Requirement already satisfied: sniffio in /usr/local/lib/python3.7/dist-packages (from httpx==0.13.3->googletrans==4.0.0-rc1) (1.2.0)\n",
            "Requirement already satisfied: certifi in /usr/local/lib/python3.7/dist-packages (from httpx==0.13.3->googletrans==4.0.0-rc1) (2021.10.8)\n",
            "Requirement already satisfied: idna==2.* in /usr/local/lib/python3.7/dist-packages (from httpx==0.13.3->googletrans==4.0.0-rc1) (2.10)\n",
            "Requirement already satisfied: rfc3986<2,>=1.3 in /usr/local/lib/python3.7/dist-packages (from httpx==0.13.3->googletrans==4.0.0-rc1) (1.5.0)\n",
            "Requirement already satisfied: httpcore==0.9.* in /usr/local/lib/python3.7/dist-packages (from httpx==0.13.3->googletrans==4.0.0-rc1) (0.9.1)\n",
            "Requirement already satisfied: chardet==3.* in /usr/local/lib/python3.7/dist-packages (from httpx==0.13.3->googletrans==4.0.0-rc1) (3.0.4)\n",
            "Requirement already satisfied: h2==3.* in /usr/local/lib/python3.7/dist-packages (from httpcore==0.9.*->httpx==0.13.3->googletrans==4.0.0-rc1) (3.2.0)\n",
            "Requirement already satisfied: h11<0.10,>=0.8 in /usr/local/lib/python3.7/dist-packages (from httpcore==0.9.*->httpx==0.13.3->googletrans==4.0.0-rc1) (0.9.0)\n",
            "Requirement already satisfied: hyperframe<6,>=5.2.0 in /usr/local/lib/python3.7/dist-packages (from h2==3.*->httpcore==0.9.*->httpx==0.13.3->googletrans==4.0.0-rc1) (5.2.0)\n",
            "Requirement already satisfied: hpack<4,>=3.0 in /usr/local/lib/python3.7/dist-packages (from h2==3.*->httpcore==0.9.*->httpx==0.13.3->googletrans==4.0.0-rc1) (3.0.0)\n"
          ]
        }
      ]
    },
    {
      "cell_type": "code",
      "metadata": {
        "colab": {
          "base_uri": "https://localhost:8080/"
        },
        "id": "cVLMAj9vMXKh",
        "outputId": "69a8bcfc-5d2b-4b9a-d108-6c70b0d8e247"
      },
      "source": [
        "!pip install gTTS"
      ],
      "execution_count": null,
      "outputs": [
        {
          "output_type": "stream",
          "name": "stdout",
          "text": [
            "Requirement already satisfied: gTTS in /usr/local/lib/python3.7/dist-packages (2.2.3)\n",
            "Requirement already satisfied: click in /usr/local/lib/python3.7/dist-packages (from gTTS) (7.1.2)\n",
            "Requirement already satisfied: requests in /usr/local/lib/python3.7/dist-packages (from gTTS) (2.23.0)\n",
            "Requirement already satisfied: six in /usr/local/lib/python3.7/dist-packages (from gTTS) (1.15.0)\n",
            "Requirement already satisfied: certifi>=2017.4.17 in /usr/local/lib/python3.7/dist-packages (from requests->gTTS) (2021.10.8)\n",
            "Requirement already satisfied: urllib3!=1.25.0,!=1.25.1,<1.26,>=1.21.1 in /usr/local/lib/python3.7/dist-packages (from requests->gTTS) (1.24.3)\n",
            "Requirement already satisfied: chardet<4,>=3.0.2 in /usr/local/lib/python3.7/dist-packages (from requests->gTTS) (3.0.4)\n",
            "Requirement already satisfied: idna<3,>=2.5 in /usr/local/lib/python3.7/dist-packages (from requests->gTTS) (2.10)\n"
          ]
        }
      ]
    },
    {
      "cell_type": "code",
      "metadata": {
        "colab": {
          "base_uri": "https://localhost:8080/"
        },
        "id": "PqHKGcJLMcY7",
        "outputId": "2e35bcb8-0a87-4cc6-86ce-60994817076f"
      },
      "source": [
        "!wget https://i.pinimg.com/originals/26/0a/78/260a780dcb993dd72c13a9f632227336.png"
      ],
      "execution_count": null,
      "outputs": [
        {
          "output_type": "stream",
          "name": "stdout",
          "text": [
            "--2022-02-20 15:46:20--  https://i.pinimg.com/originals/26/0a/78/260a780dcb993dd72c13a9f632227336.png\n",
            "Resolving i.pinimg.com (i.pinimg.com)... 23.78.8.203, 2a04:4e42:3e::84\n",
            "Connecting to i.pinimg.com (i.pinimg.com)|23.78.8.203|:443... connected.\n",
            "HTTP request sent, awaiting response... 200 OK\n",
            "Length: 13728 (13K) [image/png]\n",
            "Saving to: ‘260a780dcb993dd72c13a9f632227336.png.1’\n",
            "\n",
            "\r          260a780dc   0%[                    ]       0  --.-KB/s               \r260a780dcb993dd72c1 100%[===================>]  13.41K  --.-KB/s    in 0.002s  \n",
            "\n",
            "2022-02-20 15:46:20 (6.31 MB/s) - ‘260a780dcb993dd72c13a9f632227336.png.1’ saved [13728/13728]\n",
            "\n"
          ]
        }
      ]
    },
    {
      "cell_type": "code",
      "metadata": {
        "id": "6cWjiSUAMjMP"
      },
      "source": [
        "from googletrans import Translator\n",
        "import easyocr\n",
        "from gtts import gTTS\n",
        "from IPython.display import Audio"
      ],
      "execution_count": null,
      "outputs": []
    },
    {
      "cell_type": "code",
      "metadata": {
        "colab": {
          "base_uri": "https://localhost:8080/"
        },
        "id": "_UDdN9L8MpBe",
        "outputId": "1254eb63-cff2-435e-bf77-063fa422b6cb"
      },
      "source": [
        "reader = easyocr.Reader(['fr'])\n",
        "translator = Translator()"
      ],
      "execution_count": null,
      "outputs": [
        {
          "output_type": "stream",
          "name": "stderr",
          "text": [
            "CUDA not available - defaulting to CPU. Note: This module is much faster with a GPU.\n",
            "Downloading detection model, please wait. This may take several minutes depending upon your network connection.\n"
          ]
        },
        {
          "output_type": "stream",
          "name": "stdout",
          "text": [
            ""
          ]
        },
        {
          "output_type": "stream",
          "name": "stderr",
          "text": [
            "Downloading recognition model, please wait. This may take several minutes depending upon your network connection.\n"
          ]
        },
        {
          "output_type": "stream",
          "name": "stdout",
          "text": [
            ""
          ]
        }
      ]
    },
    {
      "cell_type": "code",
      "metadata": {
        "colab": {
          "base_uri": "https://localhost:8080/",
          "height": 330
        },
        "id": "EbJ7f2tvMsfT",
        "outputId": "750debdd-ba01-49cd-b134-6a3259ebe67c"
      },
      "source": [
        "import PIL\n",
        "from PIL import ImageDraw\n",
        "im = PIL.Image.open(\"260a780dcb993dd72c13a9f632227336.png\")\n",
        "im"
      ],
      "execution_count": null,
      "outputs": [
        {
          "output_type": "execute_result",
          "data": {
            "image/png": "[encoded data removed]",
            "text/plain": [
              "<PIL.PngImagePlugin.PngImageFile image mode=LA size=500x313 at 0x7FB53199F210>"
            ]
          },
          "metadata": {},
          "execution_count": 15
        }
      ]
    },
    {
      "cell_type": "code",
      "metadata": {
        "colab": {
          "base_uri": "https://localhost:8080/"
        },
        "id": "H7C1YBQKMv_t",
        "outputId": "ec677c8d-a2b6-4318-97e2-5c6a0c73d0fe"
      },
      "source": [
        "bounds = reader.readtext('260a780dcb993dd72c13a9f632227336.png', add_margin=0.55, width_ths=0.7, link_threshold=0.8, decoder='beamsearch',blocklist='=-')\n",
        "bounds"
      ],
      "execution_count": null,
      "outputs": [
        {
          "output_type": "execute_result",
          "data": {
            "text/plain": [
              "[([[14, 66], [492, 66], [492, 196], [14, 196]],\n",
              "  'Ne crois pas tout',\n",
              "  0.9987102167400954),\n",
              " ([[23, 139], [482, 139], [482, 259], [23, 259]],\n",
              "  'ce que tu penses',\n",
              "  0.9502273745318748)]"
            ]
          },
          "metadata": {},
          "execution_count": 16
        }
      ]
    },
    {
      "cell_type": "code",
      "metadata": {
        "colab": {
          "base_uri": "https://localhost:8080/",
          "height": 330
        },
        "id": "TiTD8LwvM1FF",
        "outputId": "7d40d5a8-af2f-4a01-92da-0808039c9aff"
      },
      "source": [
        "def draw_boxes(image, bounds, color='yellow', width=2):\n",
        "    draw = ImageDraw.Draw(image)\n",
        "    for bound in bounds:\n",
        "        p0, p1, p2, p3 = bound[0]\n",
        "        draw.line([*p0, *p1, *p2, *p3, *p0], fill=color, width=width)\n",
        "    return image\n",
        "\n",
        "draw_boxes(im, bounds)"
      ],
      "execution_count": null,
      "outputs": [
        {
          "output_type": "execute_result",
          "data": {
            "image/png": "[encoded data removed]",
            "text/plain": [
              "<PIL.PngImagePlugin.PngImageFile image mode=LA size=500x313 at 0x7FB53199F210>"
            ]
          },
          "metadata": {},
          "execution_count": 17
        }
      ]
    },
    {
      "cell_type": "code",
      "metadata": {
        "colab": {
          "base_uri": "https://localhost:8080/"
        },
        "id": "8jv1m6cEM2Gv",
        "outputId": "69187263-e3b3-44b4-e277-213ead646661"
      },
      "source": [
        "text_list = reader.readtext('260a780dcb993dd72c13a9f632227336.png', add_margin=0.55, width_ths=0.7, link_threshold=0.8, decoder='beamsearch',blocklist='=-', detail=0)\n",
        "text_list"
      ],
      "execution_count": null,
      "outputs": [
        {
          "output_type": "execute_result",
          "data": {
            "text/plain": [
              "['Ne crois pas tout', 'ce que tu penses']"
            ]
          },
          "metadata": {},
          "execution_count": 18
        }
      ]
    },
    {
      "cell_type": "code",
      "metadata": {
        "colab": {
          "base_uri": "https://localhost:8080/",
          "height": 36
        },
        "id": "Wb8MsqyvM57P",
        "outputId": "a1affa22-f5de-4d03-83d0-842ddc21edec"
      },
      "source": [
        "text_comb=' '.join(text_list)\n",
        "text_comb"
      ],
      "execution_count": null,
      "outputs": [
        {
          "output_type": "execute_result",
          "data": {
            "application/vnd.google.colaboratory.intrinsic+json": {
              "type": "string"
            },
            "text/plain": [
              "'Ne crois pas tout ce que tu penses'"
            ]
          },
          "metadata": {},
          "execution_count": 19
        }
      ]
    },
    {
      "cell_type": "code",
      "metadata": {
        "colab": {
          "base_uri": "https://localhost:8080/"
        },
        "id": "DSXUlCCTM83e",
        "outputId": "7c84a956-4c9a-4bdd-f5f3-eba8ebb60a51"
      },
      "source": [
        "print(translator.detect(text_comb))"
      ],
      "execution_count": null,
      "outputs": [
        {
          "output_type": "stream",
          "name": "stdout",
          "text": [
            "Detected(lang=fr, confidence=None)\n"
          ]
        }
      ]
    },
    {
      "cell_type": "code",
      "metadata": {
        "colab": {
          "base_uri": "https://localhost:8080/"
        },
        "id": "r6qZ22KkNAV1",
        "outputId": "6c98acc7-b6f1-4449-dd5c-d75983bdbfca"
      },
      "source": [
        "text_en=translator.translate(text_comb, src='fr')\n",
        "print(text_en.text)"
      ],
      "execution_count": null,
      "outputs": [
        {
          "output_type": "stream",
          "name": "stdout",
          "text": [
            "Do not believe everything you think\n"
          ]
        }
      ]
    },
    {
      "cell_type": "code",
      "metadata": {
        "id": "_KSz8YnSNEQ8"
      },
      "source": [
        "ta_tts=gTTS(text_en.text)\n",
        "ta_tts.save('Englishtrans.mp3')"
      ],
      "execution_count": null,
      "outputs": []
    },
    {
      "cell_type": "code",
      "metadata": {
        "colab": {
          "base_uri": "https://localhost:8080/",
          "height": 75
        },
        "id": "hX-Y-PivNKCa",
        "outputId": "b531fe3c-9c40-44d7-8fe8-9e9b09a190d4"
      },
      "source": [
        "Audio('Englishtrans.mp3' , autoplay=True)"
      ],
      "execution_count": null,
      "outputs": [
        {
          "output_type": "execute_result",
          "data": {
            "text/html": [
              "\n",
              "                <audio controls=\"controls\" autoplay=\"autoplay\">\n",
              "                    <source src=\"data:audio/mpeg;base64,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\" type=\"audio/mpeg\" />\n",
              "                    Your browser does not support the audio element.\n",
              "                </audio>\n",
              "              "
            ],
            "text/plain": [
              "<IPython.lib.display.Audio object>"
            ]
          },
          "metadata": {},
          "execution_count": 23
        }
      ]
    },
    {
      "cell_type": "code",
      "metadata": {
        "id": "jL_UyExoNM16"
      },
      "source": [
        "ta_tts=gTTS(text_en.text, lang='ta') \n",
        "ta_tts.save('IndianAccent.mp3')"
      ],
      "execution_count": null,
      "outputs": []
    },
    {
      "cell_type": "code",
      "metadata": {
        "colab": {
          "base_uri": "https://localhost:8080/",
          "height": 75
        },
        "id": "dTlL7BBBNQdS",
        "outputId": "82a7e898-d9f1-4b95-9a9d-9674c5aa444f"
      },
      "source": [
        "Audio('IndianAccent.mp3' , autoplay=True)"
      ],
      "execution_count": null,
      "outputs": [
        {
          "output_type": "execute_result",
          "data": {
            "text/html": [
              "\n",
              "                <audio controls=\"controls\" autoplay=\"autoplay\">\n",
              "                    <source src=\"data:audio/mpeg;base64,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\" type=\"audio/mpeg\" />\n",
              "                    Your browser does not support the audio element.\n",
              "                </audio>\n",
              "              "
            ],
            "text/plain": [
              "<IPython.lib.display.Audio object>"
            ]
          },
          "metadata": {},
          "execution_count": 25
        }
      ]
    },
    {
      "cell_type": "code",
      "metadata": {
        "colab": {
          "base_uri": "https://localhost:8080/"
        },
        "id": "xp9i1Rw5NRfL",
        "outputId": "2ced0a6c-f2ce-4215-efe1-effc5ce0f850"
      },
      "source": [
        "text_tamil=translator.translate(text_comb, src='fr',dest='ta')\n",
        "print(text_tamil.text)"
      ],
      "execution_count": null,
      "outputs": [
        {
          "output_type": "stream",
          "name": "stdout",
          "text": [
            "நீ நினைத்ததையெல்லாம் நம்பிவிடாதே\n"
          ]
        }
      ]
    },
    {
      "cell_type": "code",
      "metadata": {
        "id": "8Gb-qHaQNVPB"
      },
      "source": [
        "ta_tts_hi=gTTS(text_tamil.text, lang='ta')\n",
        "ta_tts_hi.save('trans_tamil.mp3')"
      ],
      "execution_count": null,
      "outputs": []
    },
    {
      "cell_type": "code",
      "metadata": {
        "colab": {
          "base_uri": "https://localhost:8080/",
          "height": 75
        },
        "id": "mjKDim5kNah1",
        "outputId": "61e7df61-1d26-45db-9e45-86935f730742"
      },
      "source": [
        "Audio('trans_tamil.mp3' , autoplay=True)"
      ],
      "execution_count": null,
      "outputs": [
        {
          "output_type": "execute_result",
          "data": {
            "text/html": [
              "\n",
              "                <audio controls=\"controls\" autoplay=\"autoplay\">\n",
              "                    <source src=\"data:audio/mpeg;base64,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\" type=\"audio/mpeg\" />\n",
              "                    Your browser does not support the audio element.\n",
              "                </audio>\n",
              "              "
            ],
            "text/plain": [
              "<IPython.lib.display.Audio object>"
            ]
          },
          "metadata": {},
          "execution_count": 28
        }
      ]
    },
    {
      "cell_type": "code",
      "metadata": {
        "colab": {
          "base_uri": "https://localhost:8080/"
        },
        "id": "wesiqBTMNee5",
        "outputId": "aa92acaa-063b-4cf5-b499-7aa67304c553"
      },
      "source": [
        "text_hindi=translator.translate(text_comb, src='ta',dest='hi')\n",
        "print(text_hindi.text)"
      ],
      "execution_count": null,
      "outputs": [
        {
          "output_type": "stream",
          "name": "stdout",
          "text": [
            "आप चिरोसिस बॉक्स कर्म हैं\n"
          ]
        }
      ]
    },
    {
      "cell_type": "code",
      "metadata": {
        "id": "yFGOUi9uNhIk"
      },
      "source": [
        "ta_tts_fr=gTTS(text_hindi.text, lang='hi')\n",
        "ta_tts_fr.save('trans_hindi.mp3')"
      ],
      "execution_count": null,
      "outputs": []
    },
    {
      "cell_type": "code",
      "metadata": {
        "colab": {
          "base_uri": "https://localhost:8080/"
        },
        "id": "ehMPLsPCNkH5",
        "outputId": "711d6449-f90f-45f3-e977-ae3ff89e5cce"
      },
      "source": [
        "Audio('trans_hindi.mp3' , autoplay=True)"
      ],
      "execution_count": null,
      "outputs": [
        {
          "output_type": "execute_result",
          "data": {
            "text/html": [
              "\n",
              "                <audio controls=\"controls\" autoplay=\"autoplay\">\n",
              "                    <source src=\"data:audio/mpeg;base64,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\" type=\"audio/mpeg\" />\n",
              "                    Your browser does not support the audio element.\n",
              "                </audio>\n",
              "              "
            ],
            "text/plain": [
              "<IPython.lib.display.Audio object>"
            ]
          },
          "metadata": {},
          "execution_count": 23
        }
      ]
    }
  ]
}